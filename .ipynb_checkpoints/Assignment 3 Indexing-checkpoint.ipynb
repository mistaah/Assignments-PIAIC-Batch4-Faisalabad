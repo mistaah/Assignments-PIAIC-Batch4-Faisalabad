{
 "cells": [
  {
   "cell_type": "code",
   "execution_count": 12,
   "metadata": {},
   "outputs": [
    {
     "ename": "SyntaxError",
     "evalue": "invalid syntax (<ipython-input-12-619411523900>, line 18)",
     "output_type": "error",
     "traceback": [
      "\u001b[1;36m  File \u001b[1;32m\"<ipython-input-12-619411523900>\"\u001b[1;36m, line \u001b[1;32m18\u001b[0m\n\u001b[1;33m    print(\"Please Submit The Admission Fee Within A Week After \",Student_Info[5] \" In Accounts Department Of \",Student_Info[4])\u001b[0m\n\u001b[1;37m                                                                                                             ^\u001b[0m\n\u001b[1;31mSyntaxError\u001b[0m\u001b[1;31m:\u001b[0m invalid syntax\n"
     ]
    }
   ],
   "source": [
    "Student_Info=[\"\",\"\",\"\",\"\",\"\",\"\"]\n",
    "print(\"PLEASE PROVIDE THE FOLLOWING INFORMATION\")\n",
    "Student_Info[0]=input(\"Enter Applicant's Name: \")\n",
    "Student_Info[1]=input(\"Enter Applicant's CNIC#: \")\n",
    "Student_Info[2]=input(\"Enter Applicant's Course Name: \")\n",
    "Student_Info[3]=input(\"Enter Applicant's Course Level 'BS/MS': \")\n",
    "Student_Info[4]=input(\"Enter University Name: \")\n",
    "Student_Info[5]=input(\"Enter Date 'dd/mm/yy': \")\n",
    "\n",
    "print(\"**************************\")\n",
    "print(\"**************************\")\n",
    "print(\"**************************\")\n",
    "print(\"Congratulations!\\nYour Application Named \",Student_Info[0],\", With CNIC # \",Student_Info[1],\" Has Been Successfully Submitted With Following Details: \")\n",
    "print(\"Tracking ID: \",Student_Info[1])\n",
    "print(\"Course Level: \",Student_Info[3])\n",
    "print(\"Course Name: \",Student_Info[2])\n",
    "print(\"Application Date: \",Student_Info[5])\n",
    "print(\"Please Submit The Admission Fee Within A Week After \",Student_Info[5] \" In Accounts Department Of \",Student_Info[4])\n",
    "print(\"Thanks!\")\n",
    "print(\"**************************\")\n",
    "print(\"**************************\")\n",
    "print(\"**************************\")\n",
    "print(\"Congratulations!\\nYour Application Named \",Student_Info[0],\", With CNIC # \",Student_Info[1],\" Has Been Successfully Submitted With Following Details: \")\n",
    "print(\"Tracking ID: \",Student_Info[1])\n",
    "print(\"Course Level: \",Student_Info[3])\n",
    "print(\"Course Name: \",Student_Info[2])\n",
    "print(\"Application Date: \",Student_Info[5])\n"
   ]
  },
  {
   "cell_type": "code",
   "execution_count": null,
   "metadata": {},
   "outputs": [],
   "source": []
  },
  {
   "cell_type": "code",
   "execution_count": null,
   "metadata": {},
   "outputs": [],
   "source": []
  },
  {
   "cell_type": "code",
   "execution_count": null,
   "metadata": {},
   "outputs": [],
   "source": []
  },
  {
   "cell_type": "code",
   "execution_count": null,
   "metadata": {},
   "outputs": [],
   "source": []
  }
 ],
 "metadata": {
  "kernelspec": {
   "display_name": "Python 3",
   "language": "python",
   "name": "python3"
  },
  "language_info": {
   "codemirror_mode": {
    "name": "ipython",
    "version": 3
   },
   "file_extension": ".py",
   "mimetype": "text/x-python",
   "name": "python",
   "nbconvert_exporter": "python",
   "pygments_lexer": "ipython3",
   "version": "3.7.4"
  }
 },
 "nbformat": 4,
 "nbformat_minor": 2
}
