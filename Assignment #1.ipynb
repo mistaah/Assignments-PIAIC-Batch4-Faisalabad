{
 "cells": [
  {
   "cell_type": "code",
   "execution_count": 15,
   "metadata": {},
   "outputs": [
    {
     "name": "stdout",
     "output_type": "stream",
     "text": [
      "Please Enter Your Name: abc\n",
      "Please Enter Your Age: 2121\n",
      "Please Type Your Course Name: ASDSD\n",
      "Please Enter Your University Name: ASSDS\n",
      "..\n",
      "..\n",
      "..\n",
      "..\n",
      "..\n",
      "..\n",
      "..\n",
      "..\n",
      "RECORD SAVED SUCCESSFULLY\n",
      ".........................\n",
      ".........................\n",
      ".........................\n",
      "HELLO  abc\n",
      "AGE= 2121\n",
      "Congratulations!!  Your application is accepted for ASDSD in ASSDS\n"
     ]
    }
   ],
   "source": [
    "print(\"Student Course\")\n",
    "Name=input(\"Please Enter Your Name: \")\n",
    "Age=int(input(\"Please Enter Your Age: \"))\n",
    "Course_Name=input(\"Please Type Your Course Name: \")\n",
    "University_Name=input(\"Please Enter Your University Name: \")\n",
    "print(\"..\")\n",
    "print(\"..\")\n",
    "print(\"..\")\n",
    "print(\"..\")\n",
    "print(\"..\")\n",
    "print(\"..\")\n",
    "print(\"..\")\n",
    "print(\"..\")\n",
    "print(\"RECORD SAVED SUCCESSFULLY\")\n",
    "print(\".........................\")\n",
    "print(\".........................\")\n",
    "print(\".........................\")\n",
    "print(\"HELLO \",Name )\n",
    "print(\"AGE=\",Age)\n",
    "print(\"Congratulations!!  Your application is accepted for\" ,Course_Name, \"in\" ,University_Name)\n",
    "\n"
   ]
  },
  {
   "cell_type": "code",
   "execution_count": null,
   "metadata": {},
   "outputs": [],
   "source": []
  }
 ],
 "metadata": {
  "kernelspec": {
   "display_name": "Python 3",
   "language": "python",
   "name": "python3"
  },
  "language_info": {
   "codemirror_mode": {
    "name": "ipython",
    "version": 3
   },
   "file_extension": ".py",
   "mimetype": "text/x-python",
   "name": "python",
   "nbconvert_exporter": "python",
   "pygments_lexer": "ipython3",
   "version": "3.7.4"
  }
 },
 "nbformat": 4,
 "nbformat_minor": 2
}
