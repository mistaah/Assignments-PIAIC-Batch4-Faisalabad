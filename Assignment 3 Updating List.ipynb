{
 "cells": [
  {
   "cell_type": "code",
   "execution_count": 11,
   "metadata": {},
   "outputs": [],
   "source": [
    "StudentData = [\"Ali Raza\", 22, 91.24, \"Computer Science\", 5, \"University of Agriculture\"]  "
   ]
  },
  {
   "cell_type": "markdown",
   "metadata": {},
   "source": [
    "# ADD VALUES USING APPEND  "
   ]
  },
  {
   "cell_type": "code",
   "execution_count": 14,
   "metadata": {},
   "outputs": [
    {
     "name": "stdout",
     "output_type": "stream",
     "text": [
      "['Ali Raza', 22, 91.24, 'Computer Science', 5, 'University of Agriculture', '20th Feburary 2019', 8, '20th Feburary 2019', 8, '20th Feburary 2019', 8]\n"
     ]
    }
   ],
   "source": [
    "StudentData.append(\"20th Feburary 2019\")  \n",
    "StudentData.append(8) \n",
    "print(StudentData)"
   ]
  },
  {
   "cell_type": "markdown",
   "metadata": {},
   "source": [
    "# ADD VALUES USING INSERT "
   ]
  },
  {
   "cell_type": "code",
   "execution_count": 15,
   "metadata": {},
   "outputs": [
    {
     "name": "stdout",
     "output_type": "stream",
     "text": [
      "['Ali Raza', 22, 91.24, 'Computer Science', 25000, 5, 'University of Agriculture', '20th Feburary 2019', 8, '20th Feburary 2019', 8, '20th Feburary 2019', 8]\n"
     ]
    }
   ],
   "source": [
    "StudentData.insert(4,25000)\n",
    "print(StudentData)"
   ]
  },
  {
   "cell_type": "code",
   "execution_count": 16,
   "metadata": {},
   "outputs": [
    {
     "name": "stdout",
     "output_type": "stream",
     "text": [
      "['Ali Raza', 'M. Iqbal', 22, 91.24, 'Computer Science', 25000, 5, 'University of Agriculture', '20th Feburary 2019', 8, '20th Feburary 2019', 8, '20th Feburary 2019', 8]\n"
     ]
    }
   ],
   "source": [
    "StudentData.insert(1,\"M. Iqbal\")\n",
    "print(StudentData)"
   ]
  },
  {
   "cell_type": "markdown",
   "metadata": {},
   "source": [
    "# UPDATING VALUES"
   ]
  },
  {
   "cell_type": "code",
   "execution_count": 18,
   "metadata": {},
   "outputs": [
    {
     "name": "stdout",
     "output_type": "stream",
     "text": [
      "['Zohaib Ali', 'M. Iqbal', 22, 91.24, 'Computer Science', 25000, 7, 'University of Agriculture', '20th Feburary 2019', 8, '20th Feburary 2019', 8, '20th Feburary 2019', 8]\n"
     ]
    }
   ],
   "source": [
    "StudentData[0]=\"Zohaib Ali\"\n",
    "StudentData[6]=7\n",
    "print(StudentData)"
   ]
  },
  {
   "cell_type": "markdown",
   "metadata": {},
   "source": [
    "# REMOVING VALUES USING REMOVE()"
   ]
  },
  {
   "cell_type": "code",
   "execution_count": 19,
   "metadata": {},
   "outputs": [
    {
     "name": "stdout",
     "output_type": "stream",
     "text": [
      "['Zohaib Ali', 'M. Iqbal', 22, 25000, 7, 'University of Agriculture', '20th Feburary 2019', 8, '20th Feburary 2019', 8, '20th Feburary 2019', 8]\n"
     ]
    }
   ],
   "source": [
    "StudentData.remove(\"Computer Science\")\n",
    "StudentData.remove(91.24)\n",
    "print(StudentData)"
   ]
  },
  {
   "cell_type": "markdown",
   "metadata": {},
   "source": [
    "# REMOVING VALUES USING POP() "
   ]
  },
  {
   "cell_type": "code",
   "execution_count": 20,
   "metadata": {},
   "outputs": [],
   "source": [
    "digit=StudentData.pop(-1)"
   ]
  },
  {
   "cell_type": "code",
   "execution_count": 21,
   "metadata": {},
   "outputs": [
    {
     "name": "stdout",
     "output_type": "stream",
     "text": [
      "['Zohaib Ali', 'M. Iqbal', 22, 25000, 7, 'University of Agriculture', '20th Feburary 2019', 8, '20th Feburary 2019', 8, '20th Feburary 2019']\n"
     ]
    }
   ],
   "source": [
    "print(StudentData)"
   ]
  },
  {
   "cell_type": "code",
   "execution_count": 22,
   "metadata": {},
   "outputs": [
    {
     "name": "stdout",
     "output_type": "stream",
     "text": [
      "['Zohaib Ali', 'M. Iqbal', 22, 7, 'University of Agriculture', '20th Feburary 2019', 8, '20th Feburary 2019', 8, '20th Feburary 2019']\n"
     ]
    }
   ],
   "source": [
    "salary=StudentData.pop(3)\n",
    "print(StudentData)"
   ]
  },
  {
   "cell_type": "code",
   "execution_count": null,
   "metadata": {},
   "outputs": [],
   "source": []
  }
 ],
 "metadata": {
  "kernelspec": {
   "display_name": "Python 3",
   "language": "python",
   "name": "python3"
  },
  "language_info": {
   "codemirror_mode": {
    "name": "ipython",
    "version": 3
   },
   "file_extension": ".py",
   "mimetype": "text/x-python",
   "name": "python",
   "nbconvert_exporter": "python",
   "pygments_lexer": "ipython3",
   "version": "3.7.4"
  }
 },
 "nbformat": 4,
 "nbformat_minor": 2
}
