{
 "cells": [
  {
   "cell_type": "code",
   "execution_count": 2,
   "metadata": {},
   "outputs": [
    {
     "name": "stdout",
     "output_type": "stream",
     "text": [
      "Enter Employee 1 Name\n",
      " Hamza Ali\n",
      "Enter Employee 1 Age\n",
      "25\n",
      "Enter Employee 1 Work\n",
      "A.I\n",
      "Enter Employee 1 Skill\n",
      "python\n",
      "Enter Employee 1 Skill\n",
      "tensorflow\n",
      "Enter Employee 1 Skill\n",
      "cloud\n",
      "Enter Degree Title\n",
      " BS\n",
      "Enter Degree Major\n",
      " computer science\n",
      "Enter Degree Completion Date\n",
      " Jun 2019\n",
      "Enter Employee 1 Salary\n",
      "250000\n",
      "Enter Employee 2 Name\n",
      " Farooq Aziz\n",
      "Enter Employee 2 Age\n",
      "27\n",
      "Enter Employee 2 Work\n",
      "Cloud Native\n",
      "Enter Employee 2 Skill\n",
      "ubuntu\n",
      "Enter Employee 2 Skill\n",
      "docker\n",
      "Enter Employee 2 Skill\n",
      "kubernetes\n",
      "Enter Degree Title\n",
      " MS\n",
      "Enter Degree Major\n",
      " Software Engineering\n",
      "Enter Degree Completion Date\n",
      " May 2018\n",
      "Enter Employee 2 Salary\n",
      "200000\n",
      "Enter Employee 3 Name\n",
      " Abu Bakr\n",
      "Enter Employee 3 Age\n",
      "30\n",
      "Enter Employee 3 Work\n",
      "Blockchain\n",
      "Enter Employee 3 Skill\n",
      "Python\n",
      "Enter Employee 3 Skill\n",
      "Cryptography\n",
      "Enter Employee 3 Skill\n",
      "Ethereum\n",
      "Enter Degree Title\n",
      " BS\n",
      "Enter Degree Major\n",
      " Computer Science\n",
      "Enter Degree Completion Date\n",
      " May 2019\n",
      "Enter Employee 3 Salary\n",
      "300000\n",
      "******************************\n",
      "******************************\n",
      "******************************\n",
      "******************************\n",
      "[{'name': 'Hamza Ali', 'age': '25', 'work': 'A.I', 'skill': ['python', 'tensorflow', 'cloud'], 'degree': {'title': 'BS', 'major': 'computer science', 'completionDate': 'Jun 2019'}, 'salary': '250000'}, {'name': 'Farooq Aziz', 'age': '27', 'work': 'Cloud Native', 'skill': ['ubuntu', 'docker', 'kubernetes'], 'degree': {'title': 'MS', 'major': 'Software Engineering', 'completionDate': 'May 2018'}, 'salary': '200000'}, {'name': 'Abu Bakr', 'age': '30', 'work': 'Blockchain', 'skill': ['Python', 'Cryptography', 'Ethereum'], 'degree': {'title': 'BS', 'major': 'Computer Science', 'completionDate': 'May 2019'}, 'salary': '300000'}]\n"
     ]
    }
   ],
   "source": [
    "\n",
    "\n",
    "\n",
    "user_data=[{},{},{}]\n",
    "a=1\n",
    "for i in user_data:\n",
    "    i[\"name\"]=input(\"Enter Employee \"+str(a)+\" Name\\n \")\n",
    "    i[\"age\"]=input(\"Enter Employee \"+str(a)+\" Age\\n\")\n",
    "    i[\"work\"]=input(\"Enter Employee \"+str(a)+\" Work\\n\")\n",
    "    i[\"skill\"]=[input(\"Enter Employee \"+str(a)+ \" Skill\\n\")]\n",
    "    i[\"skill\"].append(input(\"Enter Employee \"+str(a)+ \" Skill\\n\"))\n",
    "    i[\"skill\"].append(input(\"Enter Employee \"+str(a)+ \" Skill\\n\"))\n",
    "    i[\"degree\"] = {\"title\" : input(\"Enter Degree Title\\n \"), \"major\":input(\"Enter Degree Major\\n \"),\"completionDate\":input(\"Enter Degree Completion Date\\n \")}\n",
    "    i[\"salary\"]=input(\"Enter Employee \"+str(a)+ \" Salary\\n\")\n",
    "    a+=1\n",
    "print(\"*\"*30)\n",
    "print(\"*\"*30)\n",
    "print(\"*\"*30)\n",
    "print(\"*\"*30)\n",
    "print(user_data)\n",
    "\n",
    "\n"
   ]
  },
  {
   "cell_type": "code",
   "execution_count": 3,
   "metadata": {},
   "outputs": [
    {
     "data": {
      "text/plain": [
       "[{'name': 'Hamza Ali',\n",
       "  'age': '25',\n",
       "  'work': 'A.I',\n",
       "  'skill': ['python', 'tensorflow', 'cloud'],\n",
       "  'degree': {'title': 'BS',\n",
       "   'major': 'computer science',\n",
       "   'completionDate': 'Jun 2019'},\n",
       "  'salary': '250000'},\n",
       " {'name': 'Farooq Aziz',\n",
       "  'age': '27',\n",
       "  'work': 'Cloud Native',\n",
       "  'skill': ['ubuntu', 'docker', 'kubernetes'],\n",
       "  'degree': {'title': 'MS',\n",
       "   'major': 'Software Engineering',\n",
       "   'completionDate': 'May 2018'},\n",
       "  'salary': '200000'},\n",
       " {'name': 'Abu Bakr',\n",
       "  'age': '30',\n",
       "  'work': 'Blockchain',\n",
       "  'skill': ['Python', 'Cryptography', 'Ethereum'],\n",
       "  'degree': {'title': 'BS',\n",
       "   'major': 'Computer Science',\n",
       "   'completionDate': 'May 2019'},\n",
       "  'salary': '300000'}]"
      ]
     },
     "execution_count": 3,
     "metadata": {},
     "output_type": "execute_result"
    }
   ],
   "source": [
    "user_data"
   ]
  },
  {
   "cell_type": "code",
   "execution_count": null,
   "metadata": {},
   "outputs": [],
   "source": []
  }
 ],
 "metadata": {
  "kernelspec": {
   "display_name": "Python 3",
   "language": "python",
   "name": "python3"
  },
  "language_info": {
   "codemirror_mode": {
    "name": "ipython",
    "version": 3
   },
   "file_extension": ".py",
   "mimetype": "text/x-python",
   "name": "python",
   "nbconvert_exporter": "python",
   "pygments_lexer": "ipython3",
   "version": "3.7.4"
  }
 },
 "nbformat": 4,
 "nbformat_minor": 2
}
