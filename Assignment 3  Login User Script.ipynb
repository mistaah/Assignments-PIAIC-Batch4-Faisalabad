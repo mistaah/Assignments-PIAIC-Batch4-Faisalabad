{
 "cells": [
  {
   "cell_type": "code",
   "execution_count": 2,
   "metadata": {},
   "outputs": [],
   "source": [
    "User_DB=[[\"zeeshan\",1234,\"Verified\"],[\"ali\",4321,\"Not Verified\"],[\"khan\",1111,\"Not Verified\"]]"
   ]
  },
  {
   "cell_type": "code",
   "execution_count": 27,
   "metadata": {},
   "outputs": [
    {
     "name": "stdout",
     "output_type": "stream",
     "text": [
      "Enter UserName= zeeshan\n",
      "Enter Password= 1234\n",
      "LOGIN SUCCESSFULL\n"
     ]
    }
   ],
   "source": [
    "user_name=input(\"Enter UserName= \")\n",
    "password=int(input(\"Enter Password= \"))\n",
    "\n",
    "a=0\n",
    "for i in User_DB:\n",
    "    if user_name==i[0] and password==i[1]:\n",
    "        if i[2]==\"Verified\":\n",
    "            print(\"LOGIN SUCCESSFULL\")\n",
    "            a+=1\n",
    "            \n",
    "        elif i[2]==\"Not Verified\":\n",
    "            print(\"Email Not Verified\")\n",
    "            a+=1\n",
    "\n",
    "if a==0:\n",
    "    print(\"Wrong Username Or Password\")\n"
   ]
  },
  {
   "cell_type": "code",
   "execution_count": null,
   "metadata": {},
   "outputs": [],
   "source": []
  }
 ],
 "metadata": {
  "kernelspec": {
   "display_name": "Python 3",
   "language": "python",
   "name": "python3"
  },
  "language_info": {
   "codemirror_mode": {
    "name": "ipython",
    "version": 3
   },
   "file_extension": ".py",
   "mimetype": "text/x-python",
   "name": "python",
   "nbconvert_exporter": "python",
   "pygments_lexer": "ipython3",
   "version": "3.7.4"
  }
 },
 "nbformat": 4,
 "nbformat_minor": 2
}
