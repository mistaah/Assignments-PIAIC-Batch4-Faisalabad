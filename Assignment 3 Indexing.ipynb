{
 "cells": [
  {
   "cell_type": "code",
   "execution_count": 18,
   "metadata": {},
   "outputs": [
    {
     "name": "stdout",
     "output_type": "stream",
     "text": [
      "PLEASE PROVIDE THE FOLLOWING INFORMATION\n",
      "Enter Applicant's Name: Ali Dar\n",
      "Enter Applicant's CNIC#: 341019787657\n",
      "Enter Applicant's Course Name: Cloud Computing\n",
      "Enter Applicant's Course Level 'BS/MS': MS\n",
      "Enter University Name: University Of Lahore\n",
      "Enter Date 'dd/mm/yy': 13/01/2019\n",
      "**************************\n",
      "**************************\n",
      "**************************\n",
      "Congratulations!\n",
      "Your Application Named  Ali Dar , With CNIC #  341019787657  Has Been Successfully Submitted With Following Details: \n",
      "Tracking ID:  341019787657\n",
      "Course Level:  MS\n",
      "Course Name:  Cloud Computing\n",
      "Application Date:  13/01/2019\n",
      "Please Submit The Admission Fee Within A Week After  13/01/2019  In Accounts Department Of  University Of Lahore\n",
      "Thanks!\n"
     ]
    }
   ],
   "source": [
    "Student_Info=[\"\",\"\",\"\",\"\",\"\",\"\"]\n",
    "print(\"PLEASE PROVIDE THE FOLLOWING INFORMATION\")\n",
    "Student_Info[0]=input(\"Enter Applicant's Name: \")\n",
    "Student_Info[1]=input(\"Enter Applicant's CNIC#: \")\n",
    "Student_Info[2]=input(\"Enter Applicant's Course Name: \")\n",
    "Student_Info[3]=input(\"Enter Applicant's Course Level 'BS/MS': \")\n",
    "Student_Info[4]=input(\"Enter University Name: \")\n",
    "Student_Info[5]=input(\"Enter Date 'dd/mm/yy': \")\n",
    "\n",
    "\n",
    "print(\"**************************\")\n",
    "print(\"**************************\")\n",
    "print(\"**************************\")\n",
    "print(\"Congratulations!\\nYour Application Named \",Student_Info[0],\", With CNIC # \",Student_Info[1],\" Has Been Successfully Submitted With Following Details: \")\n",
    "print(\"Tracking ID: \",Student_Info[1])\n",
    "print(\"Course Level: \",Student_Info[3])\n",
    "print(\"Course Name: \",Student_Info[2])\n",
    "print(\"Application Date: \",Student_Info[5])\n",
    "print(\"Please Submit The Admission Fee Within A Week After \",Student_Info[5], \" In Accounts Department Of \",Student_Info[4])\n",
    "print(\"Thanks!\")"
   ]
  },
  {
   "cell_type": "code",
   "execution_count": null,
   "metadata": {},
   "outputs": [],
   "source": []
  }
 ],
 "metadata": {
  "kernelspec": {
   "display_name": "Python 3",
   "language": "python",
   "name": "python3"
  },
  "language_info": {
   "codemirror_mode": {
    "name": "ipython",
    "version": 3
   },
   "file_extension": ".py",
   "mimetype": "text/x-python",
   "name": "python",
   "nbconvert_exporter": "python",
   "pygments_lexer": "ipython3",
   "version": "3.7.4"
  }
 },
 "nbformat": 4,
 "nbformat_minor": 2
}
